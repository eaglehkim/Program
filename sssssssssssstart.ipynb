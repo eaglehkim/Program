{
  "nbformat": 4,
  "nbformat_minor": 0,
  "metadata": {
    "colab": {
      "name": "sssssssssssstart.ipynb",
      "provenance": [],
      "authorship_tag": "ABX9TyOcqo94TBfVbGvq1SwMOtAq",
      "include_colab_link": true
    },
    "kernelspec": {
      "name": "python3",
      "display_name": "Python 3"
    },
    "language_info": {
      "name": "python"
    }
  },
  "cells": [
    {
      "cell_type": "markdown",
      "metadata": {
        "id": "view-in-github",
        "colab_type": "text"
      },
      "source": [
        "<a href=\"https://colab.research.google.com/github/eaglehkim/Program/blob/main/sssssssssssstart.ipynb\" target=\"_parent\"><img src=\"https://colab.research.google.com/assets/colab-badge.svg\" alt=\"Open In Colab\"/></a>"
      ]
    },
    {
      "cell_type": "markdown",
      "metadata": {
        "id": "1cDP9UGBmpfW"
      },
      "source": [
        "/content/testttt.txt\n",
        "/content/teststs.csv"
      ]
    },
    {
      "cell_type": "markdown",
      "metadata": {
        "id": "POSlReGuqQci"
      },
      "source": [
        "눈 앞에 여러 물건이 있다. 무엇을 집겠는가? 1과일 2떡 3수정구슬\n",
        "1 - 과일을 선택 당신은 생각이 많고 진지해보이는 연상에게 반하는 타입\n",
        "2 - 떡을 선택 당신은 무드에 약해 화술과 매너가 좋은 사람에게 끌리는 타입\n",
        "3 - 수정구슬을 선택 당신은 정열적이고 열중하는 타입의 이성에게 끌리는 타입"
      ]
    },
    {
      "cell_type": "code",
      "metadata": {
        "colab": {
          "base_uri": "https://localhost:8080/"
        },
        "id": "cae5N3iydljD",
        "outputId": "fe3a870c-908a-4b50-be28-263220c23958"
      },
      "source": [
        "print(\"======================================================================================\")\n",
        "print(\"======                눈 앞에 여러 물건이 있다. 무엇을 집겠는가?                ======\")\n",
        "print(\"======================================================================================\")\n",
        "print(\"======                                  1:과일                                  ======\")\n",
        "print(\"======                                  2:떡                                    ======\")\n",
        "print(\"======                                  3:수정구슬                              ======\")\n",
        "choice = int(input(\"======                     선택번호 --> \"))\n",
        "\n",
        "if choice == 1:\n",
        "  print(\"======     과일을 선택 당신은 생각이 많고 진지해보이는 연상에게 반하는 타입     ======\")\n",
        "elif choice == 2:\n",
        "  print(\"======   떡을 선택 당신은 무드에 약해 화술과 매너가 좋은 사람에게 끌리는 타입   ======\")\n",
        "elif choice == 3:\n",
        "  print(\"======  수정구슬을 선택 당신은 정열적이고 열중하는 타입의 이성에게 끌리는 타입  ======\")\n",
        "else:\n",
        "  print(\"======                         1~3번중에 다시 고르시오                          ======\")"
      ],
      "execution_count": 74,
      "outputs": [
        {
          "output_type": "stream",
          "name": "stdout",
          "text": [
            "======================================================================================\n",
            "======                눈 앞에 여러 물건이 있다. 무엇을 집겠는가?                ======\n",
            "======================================================================================\n",
            "======                                  1:과일                                  ======\n",
            "======                                  2:떡                                    ======\n",
            "======                                  3:수정구슬                              ======\n",
            "======                     선택번호 --> 5\n",
            "======                         1~3번중에 다시 고르시오                          ======\n"
          ]
        }
      ]
    },
    {
      "cell_type": "markdown",
      "metadata": {
        "id": "iS2ZGUqytbCq"
      },
      "source": [
        "번호판이 무엇입니까?\n",
        "a = 377모4726\n",
        "b = 38육4104\n",
        "c = 66무3333"
      ]
    },
    {
      "cell_type": "code",
      "metadata": {
        "colab": {
          "base_uri": "https://localhost:8080/"
        },
        "id": "rTzUEFT7tpAB",
        "outputId": "d37fd5cc-d9f0-4f38-f9d5-529e1c563525"
      },
      "source": [
        "string = input('번호판 스캔 중 --> ')\n",
        "\n",
        "if string == '377모4726':\n",
        "  print('☆★☆★내부인, 통과☆★☆★')\n",
        "elif string == '38육4104':\n",
        "  print('☆★☆★내부인, 통과☆★☆★')\n",
        "elif string == '66무3333':\n",
        "  print('☆★☆★내부인, 통과☆★☆★')\n",
        "else:\n",
        "  print('※※※※외부인,통과불가※※※※')"
      ],
      "execution_count": 83,
      "outputs": [
        {
          "output_type": "stream",
          "name": "stdout",
          "text": [
            "번호판 스캔 중 --> 23r2e4fwe\n",
            "※※※※외부인,통과불가※※※※\n"
          ]
        }
      ]
    },
    {
      "cell_type": "markdown",
      "metadata": {
        "id": "cdgyoMItwa2x"
      },
      "source": [
        "임의의 정수 3개를 받아서 최대값을 구해라"
      ]
    },
    {
      "cell_type": "code",
      "metadata": {
        "colab": {
          "base_uri": "https://localhost:8080/"
        },
        "id": "CGZ3euu5xMmq",
        "outputId": "8d9402bb-e233-43b1-f63b-5ee3d9341a60"
      },
      "source": [
        "a, b, c = map(int, input().split())\n",
        "\n",
        "nMax = a\n",
        "\n",
        "if b > nMax:\n",
        "  nMax = b\n",
        "\n",
        "if c > nMax:\n",
        "  nMax = c\n",
        "\n",
        "print(nMax)"
      ],
      "execution_count": 94,
      "outputs": [
        {
          "output_type": "stream",
          "name": "stdout",
          "text": [
            "3 1 2\n",
            "3\n"
          ]
        }
      ]
    },
    {
      "cell_type": "code",
      "metadata": {
        "colab": {
          "base_uri": "https://localhost:8080/"
        },
        "id": "3TPaPqK-29Ox",
        "outputId": "20f68a95-ffe6-4a87-cde3-d8a07f57c5aa"
      },
      "source": [
        "# a, 1 1학년 2 2학년 3 3학년\n",
        "# b, 90 A 80 B C 70 else D\n",
        "print(\"학년과 점수를 공백으로 입력하시오:\", end='')\n",
        "grade, score = map(int, input().split())\n",
        "\n",
        "if 0 <= score <=100 and 1 <= grade <= 3:\n",
        "  if 90 <= score <= 100:\n",
        "    score = 'A'\n",
        "  elif 80 <= score < 90:\n",
        "    score = 'B'\n",
        "  elif 70 <= score < 80:\n",
        "    score = 'C'\n",
        "  else:\n",
        "    score = 'D'\n",
        "  print(\"학년:{0}, 학점:{1}\".format(grade, score))\n",
        "\n",
        "else:\n",
        "  print('잘못 입력하셨습니다.')\n",
        "\n",
        "\n"
      ],
      "execution_count": 116,
      "outputs": [
        {
          "output_type": "stream",
          "name": "stdout",
          "text": [
            "학년과 점수를 공백으로 입력하시오:3 45\n",
            "학년:3, 학점:D\n"
          ]
        }
      ]
    },
    {
      "cell_type": "code",
      "metadata": {
        "id": "6RD426Wc3q2y"
      },
      "source": [
        ""
      ],
      "execution_count": null,
      "outputs": []
    }
  ]
}