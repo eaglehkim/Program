{
  "nbformat": 4,
  "nbformat_minor": 0,
  "metadata": {
    "colab": {
      "name": "sssssssssssstart.ipynb",
      "provenance": [],
      "authorship_tag": "ABX9TyMAj7EcwSpzc5BJl6ERO5sd",
      "include_colab_link": true
    },
    "kernelspec": {
      "name": "python3",
      "display_name": "Python 3"
    },
    "language_info": {
      "name": "python"
    }
  },
  "cells": [
    {
      "cell_type": "markdown",
      "metadata": {
        "id": "view-in-github",
        "colab_type": "text"
      },
      "source": [
        "<a href=\"https://colab.research.google.com/github/eaglehkim/Program/blob/main/sssssssssssstart.ipynb\" target=\"_parent\"><img src=\"https://colab.research.google.com/assets/colab-badge.svg\" alt=\"Open In Colab\"/></a>"
      ]
    },
    {
      "cell_type": "markdown",
      "metadata": {
        "id": "1cDP9UGBmpfW"
      },
      "source": [
        "/content/testttt.txt\n",
        "/content/teststs.csv"
      ]
    },
    {
      "cell_type": "markdown",
      "metadata": {
        "id": "6_qZiPnLNen9"
      },
      "source": [
        "**2021 - 11 - 11**"
      ]
    },
    {
      "cell_type": "markdown",
      "metadata": {
        "id": "POSlReGuqQci"
      },
      "source": [
        "눈 앞에 여러 물건이 있다. 무엇을 집겠는가? 1과일 2떡 3수정구슬\n",
        "1 - 과일을 선택 당신은 생각이 많고 진지해보이는 연상에게 반하는 타입\n",
        "2 - 떡을 선택 당신은 무드에 약해 화술과 매너가 좋은 사람에게 끌리는 타입\n",
        "3 - 수정구슬을 선택 당신은 정열적이고 열중하는 타입의 이성에게 끌리는 타입"
      ]
    },
    {
      "cell_type": "code",
      "metadata": {
        "colab": {
          "base_uri": "https://localhost:8080/"
        },
        "id": "cae5N3iydljD",
        "outputId": "fe3a870c-908a-4b50-be28-263220c23958"
      },
      "source": [
        "print(\"======================================================================================\")\n",
        "print(\"======                눈 앞에 여러 물건이 있다. 무엇을 집겠는가?                ======\")\n",
        "print(\"======================================================================================\")\n",
        "print(\"======                                  1:과일                                  ======\")\n",
        "print(\"======                                  2:떡                                    ======\")\n",
        "print(\"======                                  3:수정구슬                              ======\")\n",
        "choice = int(input(\"======                     선택번호 --> \"))\n",
        "\n",
        "if choice == 1:\n",
        "  print(\"======     과일을 선택 당신은 생각이 많고 진지해보이는 연상에게 반하는 타입     ======\")\n",
        "elif choice == 2:\n",
        "  print(\"======   떡을 선택 당신은 무드에 약해 화술과 매너가 좋은 사람에게 끌리는 타입   ======\")\n",
        "elif choice == 3:\n",
        "  print(\"======  수정구슬을 선택 당신은 정열적이고 열중하는 타입의 이성에게 끌리는 타입  ======\")\n",
        "else:\n",
        "  print(\"======                         1~3번중에 다시 고르시오                          ======\")"
      ],
      "execution_count": null,
      "outputs": [
        {
          "output_type": "stream",
          "name": "stdout",
          "text": [
            "======================================================================================\n",
            "======                눈 앞에 여러 물건이 있다. 무엇을 집겠는가?                ======\n",
            "======================================================================================\n",
            "======                                  1:과일                                  ======\n",
            "======                                  2:떡                                    ======\n",
            "======                                  3:수정구슬                              ======\n",
            "======                     선택번호 --> 5\n",
            "======                         1~3번중에 다시 고르시오                          ======\n"
          ]
        }
      ]
    },
    {
      "cell_type": "markdown",
      "metadata": {
        "id": "iS2ZGUqytbCq"
      },
      "source": [
        "번호판이 무엇입니까?\n",
        "a = 377모4726\n",
        "b = 38육4104\n",
        "c = 66무3333"
      ]
    },
    {
      "cell_type": "code",
      "metadata": {
        "colab": {
          "base_uri": "https://localhost:8080/"
        },
        "id": "rTzUEFT7tpAB",
        "outputId": "d37fd5cc-d9f0-4f38-f9d5-529e1c563525"
      },
      "source": [
        "string = input('번호판 스캔 중 --> ')\n",
        "\n",
        "if string == '377모4726':\n",
        "  print('☆★☆★내부인, 통과☆★☆★')\n",
        "elif string == '38육4104':\n",
        "  print('☆★☆★내부인, 통과☆★☆★')\n",
        "elif string == '66무3333':\n",
        "  print('☆★☆★내부인, 통과☆★☆★')\n",
        "else:\n",
        "  print('※※※※외부인,통과불가※※※※')"
      ],
      "execution_count": null,
      "outputs": [
        {
          "output_type": "stream",
          "name": "stdout",
          "text": [
            "번호판 스캔 중 --> 23r2e4fwe\n",
            "※※※※외부인,통과불가※※※※\n"
          ]
        }
      ]
    },
    {
      "cell_type": "markdown",
      "metadata": {
        "id": "cdgyoMItwa2x"
      },
      "source": [
        "임의의 정수 3개를 받아서 최대값을 구해라"
      ]
    },
    {
      "cell_type": "code",
      "metadata": {
        "colab": {
          "base_uri": "https://localhost:8080/"
        },
        "id": "CGZ3euu5xMmq",
        "outputId": "8d9402bb-e233-43b1-f63b-5ee3d9341a60"
      },
      "source": [
        "a, b, c = map(int, input().split())\n",
        "\n",
        "nMax = a\n",
        "\n",
        "if b > nMax:\n",
        "  nMax = b\n",
        "\n",
        "if c > nMax:\n",
        "  nMax = c\n",
        "\n",
        "print(nMax)"
      ],
      "execution_count": null,
      "outputs": [
        {
          "output_type": "stream",
          "name": "stdout",
          "text": [
            "3 1 2\n",
            "3\n"
          ]
        }
      ]
    },
    {
      "cell_type": "code",
      "metadata": {
        "colab": {
          "base_uri": "https://localhost:8080/"
        },
        "id": "3TPaPqK-29Ox",
        "outputId": "20f68a95-ffe6-4a87-cde3-d8a07f57c5aa"
      },
      "source": [
        "# a, 1 1학년 2 2학년 3 3학년\n",
        "# b, 90 A 80 B C 70 else D\n",
        "print(\"학년과 점수를 공백으로 입력하시오:\", end='')\n",
        "grade, score = map(int, input().split())\n",
        "\n",
        "if 0 <= score <=100 and 1 <= grade <= 3:\n",
        "  if 90 <= score <= 100:\n",
        "    score = 'A'\n",
        "  elif 80 <= score < 90:\n",
        "    score = 'B'\n",
        "  elif 70 <= score < 80:\n",
        "    score = 'C'\n",
        "  else:\n",
        "    score = 'D'\n",
        "  print(\"학년:{0}, 학점:{1}\".format(grade, score))\n",
        "\n",
        "else:\n",
        "  print('잘못 입력하셨습니다.')\n",
        "\n",
        "\n"
      ],
      "execution_count": null,
      "outputs": [
        {
          "output_type": "stream",
          "name": "stdout",
          "text": [
            "학년과 점수를 공백으로 입력하시오:3 45\n",
            "학년:3, 학점:D\n"
          ]
        }
      ]
    },
    {
      "cell_type": "markdown",
      "metadata": {
        "id": "H3VA5FsmMte2"
      },
      "source": [
        "**2021 - 11 - 16**"
      ]
    },
    {
      "cell_type": "code",
      "metadata": {
        "id": "6RD426Wc3q2y",
        "colab": {
          "base_uri": "https://localhost:8080/"
        },
        "outputId": "3add5bd0-5405-419a-db20-1b682a49b0c9"
      },
      "source": [
        "num = input('number? ')\n",
        "\n",
        "if num.isnumeric():\n",
        "  num = int(num)\n",
        "  if num > 0:\n",
        "    print('pos')\n",
        "  elif num == 0:\n",
        "    print('zero')\n",
        "  else:\n",
        "    print('neg')\n",
        "else:\n",
        "  print('must be number')"
      ],
      "execution_count": 15,
      "outputs": [
        {
          "output_type": "stream",
          "name": "stdout",
          "text": [
            "number? 546\n",
            "pos\n"
          ]
        }
      ]
    },
    {
      "cell_type": "code",
      "metadata": {
        "colab": {
          "base_uri": "https://localhost:8080/"
        },
        "id": "dDVYYlEmSU6_",
        "outputId": "ae89e12b-a932-42ec-8b6b-c620528a91a5"
      },
      "source": [
        "myList = [1, 2, 3, 'a']\n",
        "print(myList)"
      ],
      "execution_count": 18,
      "outputs": [
        {
          "output_type": "stream",
          "name": "stdout",
          "text": [
            "[1, 2, 3, 'a']\n"
          ]
        }
      ]
    },
    {
      "cell_type": "code",
      "metadata": {
        "colab": {
          "base_uri": "https://localhost:8080/"
        },
        "id": "B1QVxCWUUwrY",
        "outputId": "4009404c-5972-42bb-a7b7-835790a73b9f"
      },
      "source": [
        "myList.append(5)\n",
        "myList"
      ],
      "execution_count": 19,
      "outputs": [
        {
          "output_type": "execute_result",
          "data": {
            "text/plain": [
              "[1, 2, 3, 'a', 5]"
            ]
          },
          "metadata": {},
          "execution_count": 19
        }
      ]
    },
    {
      "cell_type": "code",
      "metadata": {
        "colab": {
          "base_uri": "https://localhost:8080/",
          "height": 35
        },
        "id": "avPKUwEsV5un",
        "outputId": "4ab2f336-12cb-41ba-92e2-332d8b8f73f6"
      },
      "source": [
        "myList2 = ['Python', 'AI', 'Bigdata', 23123, 'A']\n",
        "myList2\n",
        "myList2.append(8949)\n",
        "myList2.append(\"C\")\n",
        "myList2"
      ],
      "execution_count": 25,
      "outputs": [
        {
          "output_type": "execute_result",
          "data": {
            "application/vnd.google.colaboratory.intrinsic+json": {
              "type": "string"
            },
            "text/plain": [
              "'Python'"
            ]
          },
          "metadata": {},
          "execution_count": 25
        }
      ]
    },
    {
      "cell_type": "code",
      "metadata": {
        "colab": {
          "base_uri": "https://localhost:8080/",
          "height": 35
        },
        "id": "mEvb-LHTWU61",
        "outputId": "b9d54553-cfdb-43e6-8853-edb6b99a6517"
      },
      "source": [
        "myList2[1]"
      ],
      "execution_count": 28,
      "outputs": [
        {
          "output_type": "execute_result",
          "data": {
            "application/vnd.google.colaboratory.intrinsic+json": {
              "type": "string"
            },
            "text/plain": [
              "'AI'"
            ]
          },
          "metadata": {},
          "execution_count": 28
        }
      ]
    },
    {
      "cell_type": "code",
      "metadata": {
        "colab": {
          "base_uri": "https://localhost:8080/"
        },
        "id": "tDMzg-OCWajQ",
        "outputId": "191dbc33-ead7-495b-b4f0-f4b819e18ce3"
      },
      "source": [
        "myList3 = [8456,8496456,8484,1,1,1,1,1,1,1,1,1,5498,2,2,2,2,2,2,2,49849,46,549,849,455555,45555,849]\n",
        "myList3.sort()\n",
        "print(myList3)"
      ],
      "execution_count": 31,
      "outputs": [
        {
          "output_type": "stream",
          "name": "stdout",
          "text": [
            "[1, 1, 1, 1, 1, 1, 1, 1, 1, 2, 2, 2, 2, 2, 2, 2, 46, 549, 849, 849, 5498, 8456, 8484, 45555, 49849, 455555, 8496456]\n"
          ]
        }
      ]
    },
    {
      "cell_type": "code",
      "metadata": {
        "colab": {
          "base_uri": "https://localhost:8080/"
        },
        "id": "GrG_5R8QWxWk",
        "outputId": "9c525165-02a8-4e36-ac3e-f6cd27195855"
      },
      "source": [
        "myList3.reverse()\n",
        "print(myList3)"
      ],
      "execution_count": 34,
      "outputs": [
        {
          "output_type": "stream",
          "name": "stdout",
          "text": [
            "[8496456, 455555, 49849, 45555, 8484, 8456, 5498, 849, 849, 549, 46, 2, 2, 2, 2, 2, 2, 2, 1, 1, 1, 1, 1, 1, 1, 1, 1]\n"
          ]
        }
      ]
    },
    {
      "cell_type": "code",
      "metadata": {
        "colab": {
          "base_uri": "https://localhost:8080/"
        },
        "id": "vfmTy3OtXAZu",
        "outputId": "4437646b-cc78-43ac-c801-675f32847c29"
      },
      "source": [
        "myList3.count(849)"
      ],
      "execution_count": 37,
      "outputs": [
        {
          "output_type": "execute_result",
          "data": {
            "text/plain": [
              "2"
            ]
          },
          "metadata": {},
          "execution_count": 37
        }
      ]
    },
    {
      "cell_type": "code",
      "metadata": {
        "colab": {
          "base_uri": "https://localhost:8080/"
        },
        "id": "MK2XFmfuXQYy",
        "outputId": "fac8bcac-47ec-4c1e-fab0-fa4775a256a6"
      },
      "source": [
        "myList4 = ['C', 'Python', 'Java', 'JavaScript', 'C++', 'C', 'Python']\n",
        "myList4.count('Python')\n"
      ],
      "execution_count": 38,
      "outputs": [
        {
          "output_type": "execute_result",
          "data": {
            "text/plain": [
              "2"
            ]
          },
          "metadata": {},
          "execution_count": 38
        }
      ]
    },
    {
      "cell_type": "code",
      "metadata": {
        "colab": {
          "base_uri": "https://localhost:8080/"
        },
        "id": "6PDRAwlVXoWr",
        "outputId": "fceb1c54-c669-4b8b-b552-d1a2d70bfc94"
      },
      "source": [
        "a = [1,2,3,4,5,6,7,8,9,10]\n",
        "b = list(range(1,11))\n",
        "print(b)"
      ],
      "execution_count": 43,
      "outputs": [
        {
          "output_type": "stream",
          "name": "stdout",
          "text": [
            "[1, 2, 3, 4, 5, 6, 7, 8, 9, 10]\n"
          ]
        }
      ]
    },
    {
      "cell_type": "code",
      "metadata": {
        "colab": {
          "base_uri": "https://localhost:8080/"
        },
        "id": "5iglAvrIaThM",
        "outputId": "8e9b4941-6105-435a-ff1a-73596833293e"
      },
      "source": [
        "c = list(range(1,11,3))\n",
        "print(c)"
      ],
      "execution_count": 46,
      "outputs": [
        {
          "output_type": "stream",
          "name": "stdout",
          "text": [
            "[1, 4, 7, 10]\n"
          ]
        }
      ]
    },
    {
      "cell_type": "code",
      "metadata": {
        "colab": {
          "base_uri": "https://localhost:8080/"
        },
        "id": "zUU3J42oawUC",
        "outputId": "aaf8e2c2-8a80-468e-afba-960484161c1f"
      },
      "source": [
        "for i in [1,2,3,4,'a', 'python']:\n",
        "  print(i, end=' ')"
      ],
      "execution_count": 51,
      "outputs": [
        {
          "output_type": "stream",
          "name": "stdout",
          "text": [
            "1 2 3 4 a python "
          ]
        }
      ]
    },
    {
      "cell_type": "code",
      "metadata": {
        "colab": {
          "base_uri": "https://localhost:8080/"
        },
        "id": "QOyMBTD7bpUO",
        "outputId": "5f05bc65-8a40-4ec5-97db-d99a598c88c2"
      },
      "source": [
        "for i in range(1, 11):\n",
        "  print(i, end=' ')"
      ],
      "execution_count": 53,
      "outputs": [
        {
          "output_type": "stream",
          "name": "stdout",
          "text": [
            "1 2 3 4 5 6 7 8 9 10 "
          ]
        }
      ]
    },
    {
      "cell_type": "code",
      "metadata": {
        "colab": {
          "base_uri": "https://localhost:8080/"
        },
        "id": "w_KuTzCQcLeD",
        "outputId": "5debe686-a47a-47b4-e99c-4dfc8f2a42c0"
      },
      "source": [
        "for i in range(5):\n",
        "  i += 1\n",
        "  print(i, end=' ')"
      ],
      "execution_count": 54,
      "outputs": [
        {
          "output_type": "stream",
          "name": "stdout",
          "text": [
            "1 2 3 4 5 "
          ]
        }
      ]
    },
    {
      "cell_type": "code",
      "metadata": {
        "colab": {
          "base_uri": "https://localhost:8080/"
        },
        "id": "GYTdIi4lcklr",
        "outputId": "a3ae4a34-c8e6-438e-9f1c-9c2633bf05d3"
      },
      "source": [
        "for i in range(1,6):\n",
        "  if i % 2 != 0:\n",
        "    print(i, end=' ')"
      ],
      "execution_count": 57,
      "outputs": [
        {
          "output_type": "stream",
          "name": "stdout",
          "text": [
            "1 3 5 "
          ]
        }
      ]
    },
    {
      "cell_type": "code",
      "metadata": {
        "colab": {
          "base_uri": "https://localhost:8080/"
        },
        "id": "cJXHqzCWcocF",
        "outputId": "a7912a28-bcf2-499f-d478-547619311c2b"
      },
      "source": [
        "for i in range(1,10):\n",
        "  print(\"3 * {} = {:2}\".format(i, 3*i))"
      ],
      "execution_count": 64,
      "outputs": [
        {
          "output_type": "stream",
          "name": "stdout",
          "text": [
            "3 * 1 =  3\n",
            "3 * 2 =  6\n",
            "3 * 3 =  9\n",
            "3 * 4 = 12\n",
            "3 * 5 = 15\n",
            "3 * 6 = 18\n",
            "3 * 7 = 21\n",
            "3 * 8 = 24\n",
            "3 * 9 = 27\n"
          ]
        }
      ]
    },
    {
      "cell_type": "code",
      "metadata": {
        "colab": {
          "base_uri": "https://localhost:8080/"
        },
        "id": "eS_Wis9xe-PB",
        "outputId": "1800cff2-9962-41ff-ffd0-7e5adc2587af"
      },
      "source": [
        "num = int(input())\n",
        "\n",
        "for i in range(1, 10):\n",
        "  print(\"{} * {} = {:2}\".format(num, i, num*i))"
      ],
      "execution_count": 65,
      "outputs": [
        {
          "output_type": "stream",
          "name": "stdout",
          "text": [
            "9\n",
            "9 * 1 =  9\n",
            "9 * 2 = 18\n",
            "9 * 3 = 27\n",
            "9 * 4 = 36\n",
            "9 * 5 = 45\n",
            "9 * 6 = 54\n",
            "9 * 7 = 63\n",
            "9 * 8 = 72\n",
            "9 * 9 = 81\n"
          ]
        }
      ]
    },
    {
      "cell_type": "code",
      "metadata": {
        "colab": {
          "base_uri": "https://localhost:8080/"
        },
        "id": "7cHLWBhHffOS",
        "outputId": "2bfe92f6-e2ae-49fd-aab6-2b92972cdf23"
      },
      "source": [
        "for i in range(5, 0, -1):\n",
        "  print(i, end=' ')"
      ],
      "execution_count": 67,
      "outputs": [
        {
          "output_type": "stream",
          "name": "stdout",
          "text": [
            "5 4 3 2 1 "
          ]
        }
      ]
    },
    {
      "cell_type": "code",
      "metadata": {
        "colab": {
          "base_uri": "https://localhost:8080/"
        },
        "id": "RUCsyEPPhUGL",
        "outputId": "b2bdd77f-f4ae-4d2f-9172-79db79beb4dc"
      },
      "source": [
        "num = int(input())\n",
        "nSum = 0\n",
        "for i in range(1, num + 1):\n",
        "  nSum += i\n",
        "print(nSum)"
      ],
      "execution_count": 68,
      "outputs": [
        {
          "output_type": "stream",
          "name": "stdout",
          "text": [
            "10\n",
            "55\n"
          ]
        }
      ]
    },
    {
      "cell_type": "code",
      "metadata": {
        "colab": {
          "base_uri": "https://localhost:8080/"
        },
        "id": "cI_5WIl4hfGP",
        "outputId": "c613b8f1-1df4-45c7-f47f-7cee3934bf0e"
      },
      "source": [
        "run = True\n",
        "i = 0\n",
        "while run:\n",
        "  number = int(input('(To exit, input 0) --> '))\n",
        "  print(number)\n",
        "  if number == 0:\n",
        "    run = False # kill-code\n",
        "    print(\"exit\")"
      ],
      "execution_count": 77,
      "outputs": [
        {
          "output_type": "stream",
          "name": "stdout",
          "text": [
            "(To stop input 0) --> 8\n",
            "8\n",
            "(To stop input 0) --> 20\n",
            "20\n",
            "(To stop input 0) --> 4594\n",
            "4594\n",
            "(To stop input 0) --> 0\n",
            "0\n",
            "exit\n"
          ]
        }
      ]
    },
    {
      "cell_type": "code",
      "metadata": {
        "colab": {
          "base_uri": "https://localhost:8080/"
        },
        "id": "FdiyeyD9ntqT",
        "outputId": "abf9a2bd-aa50-49ed-bddc-92cddbf9e76e"
      },
      "source": [
        "run = True\n",
        "while run:\n",
        "  ans = input('capital city of S.K --> ')\n",
        "  if ans == '서울' or ans == 'SEOUL' or ans == 'seoul':\n",
        "    run = False\n",
        "    print('correct')\n",
        "  else:\n",
        "    print('wrong, again')\n"
      ],
      "execution_count": 80,
      "outputs": [
        {
          "output_type": "stream",
          "name": "stdout",
          "text": [
            "capital city of S.K --> 베를린\n",
            "wrong, again\n",
            "capital city of S.K --> 뉴욕\n",
            "wrong, again\n",
            "capital city of S.K --> 워싱턴\n",
            "wrong, again\n",
            "capital city of S.K --> 브라질리아\n",
            "wrong, again\n",
            "capital city of S.K --> seoul\n",
            "correct\n"
          ]
        }
      ]
    },
    {
      "cell_type": "code",
      "metadata": {
        "id": "NgPXTiGMrkQ_"
      },
      "source": [
        ""
      ],
      "execution_count": null,
      "outputs": []
    }
  ]
}